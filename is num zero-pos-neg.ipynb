{
 "cells": [
  {
   "cell_type": "code",
   "execution_count": 3,
   "metadata": {},
   "outputs": [
    {
     "name": "stdout",
     "output_type": "stream",
     "text": [
      "Number is Negative\n"
     ]
    }
   ],
   "source": [
    "num=float(input('Enter a number: '))\n",
    "\n",
    "if num>=0:\n",
    "    if num==0:\n",
    "        print('Number is zero')\n",
    "\n",
    "    else:\n",
    "        print('Number is positive')\n",
    "\n",
    "else:\n",
    "    print('Number is Negative')"
   ]
  },
  {
   "cell_type": "code",
   "execution_count": 3,
   "metadata": {},
   "outputs": [
    {
     "name": "stdout",
     "output_type": "stream",
     "text": [
      "number is zero\n"
     ]
    }
   ],
   "source": [
    "num1=float(input('Enter a number: '))\n",
    "\n",
    "if num1>=0:\n",
    "    if num1==0:\n",
    "        print(\"number is zero\")\n",
    "    else:\n",
    "        print('Number is positive')\n",
    "\n",
    "else:\n",
    "    print(\"number is negavtive\")"
   ]
  },
  {
   "cell_type": "code",
   "execution_count": 10,
   "metadata": {},
   "outputs": [
    {
     "name": "stdout",
     "output_type": "stream",
     "text": [
      "Number is positive\n"
     ]
    }
   ],
   "source": [
    "n=float(input('Enter a number: '))\n",
    "\n",
    "if n>=0:\n",
    "    if n==0:\n",
    "        print('Number is zero')\n",
    "\n",
    "    else:\n",
    "        print(\"Number is positive\")\n",
    "\n",
    "else:\n",
    "    print('Number is Negative')"
   ]
  },
  {
   "cell_type": "code",
   "execution_count": null,
   "metadata": {},
   "outputs": [],
   "source": []
  }
 ],
 "metadata": {
  "kernelspec": {
   "display_name": "base",
   "language": "python",
   "name": "python3"
  },
  "language_info": {
   "codemirror_mode": {
    "name": "ipython",
    "version": 3
   },
   "file_extension": ".py",
   "mimetype": "text/x-python",
   "name": "python",
   "nbconvert_exporter": "python",
   "pygments_lexer": "ipython3",
   "version": "3.11.5"
  }
 },
 "nbformat": 4,
 "nbformat_minor": 2
}
