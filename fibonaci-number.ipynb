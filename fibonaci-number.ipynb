{
 "cells": [
  {
   "cell_type": "code",
   "execution_count": 15,
   "metadata": {},
   "outputs": [
    {
     "name": "stdout",
     "output_type": "stream",
     "text": [
      "Fibonacci sequence:\n",
      "0\n",
      "1\n",
      "1\n",
      "2\n",
      "3\n",
      "5\n",
      "8\n",
      "13\n",
      "21\n",
      "34\n"
     ]
    }
   ],
   "source": [
    "# Program to display the Fibonacci sequence up to n-th term\n",
    "\n",
    "nterms = int(input(\"How many terms? \"))\n",
    "\n",
    "# first two terms\n",
    "n1, n2 = 0, 1\n",
    "count = 0\n",
    "\n",
    "# check if the number of terms is valid\n",
    "if nterms <= 0:\n",
    "   print(\"Please enter a positive integer\")\n",
    "# if there is only one term, return n1\n",
    "elif nterms == 1:\n",
    "   print(\"Fibonacci sequence upto\",nterms,\":\")\n",
    "   print(n1)\n",
    "# generate fibonacci sequence\n",
    "else:\n",
    "   print(\"Fibonacci sequence:\")\n",
    "   while count < nterms:\n",
    "       print(n1)\n",
    "       nth = n1 + n2\n",
    "       # update values\n",
    "       n1 = n2\n",
    "       n2 = nth\n",
    "       count += 1"
   ]
  },
  {
   "cell_type": "code",
   "execution_count": 14,
   "metadata": {},
   "outputs": [
    {
     "name": "stdout",
     "output_type": "stream",
     "text": [
      "Fibonacci sequence:\n",
      "0\n",
      "1\n",
      "1\n",
      "2\n",
      "3\n",
      "5\n",
      "8\n",
      "13\n",
      "21\n",
      "34\n"
     ]
    }
   ],
   "source": [
    "mterms=int(input('How many terms: '))\n",
    "\n",
    "m1=0\n",
    "m2=1\n",
    "count2 = 0\n",
    "\n",
    "if mterms<=0:\n",
    "    print(\"enter positive number\")\n",
    "\n",
    "elif mterms==1:\n",
    "    print('fibonaci-number till', mterms,\":\")\n",
    "    print(m1)\n",
    "\n",
    "else:\n",
    "    print('Fibonacci sequence:')\n",
    "    while count2<mterms:\n",
    "        print(m1)\n",
    "        mth = m1+m2\n",
    "        m1=m2\n",
    "        m2=mth\n",
    "        count2 += 1\n"
   ]
  },
  {
   "cell_type": "code",
   "execution_count": 16,
   "metadata": {},
   "outputs": [
    {
     "name": "stdout",
     "output_type": "stream",
     "text": [
      "Fibonacci number for 10 :\n",
      "0\n",
      "1\n",
      "1\n",
      "2\n",
      "3\n",
      "5\n",
      "8\n",
      "13\n",
      "21\n",
      "34\n"
     ]
    }
   ],
   "source": [
    "pterm= int(input('Enter number of terms: '))\n",
    "\n",
    "p1,p2=0,1\n",
    "count1=0\n",
    "\n",
    "if pterm <=0:\n",
    "    print('Please enter positive number')\n",
    "\n",
    "elif pterm==1:\n",
    "    print('Fibonacci number for',pterm,':')\n",
    "    print(p1)\n",
    "\n",
    "else:\n",
    "    print('Fibonacci number for',pterm,':')\n",
    "    while count1<pterm:\n",
    "        print(p1)\n",
    "        pth=p1+p2\n",
    "        p1=p2\n",
    "        p2=pth\n",
    "        count1 += 1"
   ]
  },
  {
   "cell_type": "code",
   "execution_count": null,
   "metadata": {},
   "outputs": [],
   "source": []
  }
 ],
 "metadata": {
  "kernelspec": {
   "display_name": "base",
   "language": "python",
   "name": "python3"
  },
  "language_info": {
   "codemirror_mode": {
    "name": "ipython",
    "version": 3
   },
   "file_extension": ".py",
   "mimetype": "text/x-python",
   "name": "python",
   "nbconvert_exporter": "python",
   "pygments_lexer": "ipython3",
   "version": "3.11.5"
  }
 },
 "nbformat": 4,
 "nbformat_minor": 2
}
